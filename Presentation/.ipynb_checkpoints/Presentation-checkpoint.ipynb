{
 "cells": [
  {
   "cell_type": "raw",
   "metadata": {},
   "source": [
    "---\n",
    "title: A HAR-DRD implementation using low-frequency OHLC candlestick data.\n",
    "author: Heeth Surana\n",
    "format: \n",
    "  revealjs:\n",
    "    hash-type: number\n",
    "    transition: fade\n",
    "    embed-resources: true\n",
    "    auto-stretch: false\n",
    "    height: 900\n",
    "    width: 1600\n",
    "    slide-number: c/t\n",
    "    logo: Figures\\M_2out-mar-gold.png\n",
    "    css: style.css\n",
    "    jupyter: python3\n",
    "---"
   ]
  },
  {
   "cell_type": "markdown",
   "metadata": {},
   "source": [
    "## Project Summary\n",
    "\n",
    "Designed a novel implementation of a method that forecasts asset covariances (particularly volatility) using daily candlestick price data and tested it using a portfolio optimzation problem composed of multi-asset futures of SP500, US 10-Year Treasuries, Gold, and WTI Crude Oil.  "
   ]
  },
  {
   "cell_type": "markdown",
   "metadata": {},
   "source": [
    "## Popular models for volatility and covariance forecasting\n",
    "\n",
    "- ARCH and GARCH type models: Diagonal BEKK, Orthogonal GARCH, Constant Conditional Covariance (CCC), GARCH-Dynamic Conditional Covariance \n",
    "\n",
    "- MA type models: EWMA\n",
    "\n",
    "- Others: Heterogneous Autoregressive (HAR) and HAR DRD , Hybrid Implied Covariance, Random Walk Estimator\n"
   ]
  },
  {
   "cell_type": "markdown",
   "metadata": {},
   "source": [
    "## The Heterogenous Market Hypothesis\n",
    "\n",
    "- Proposed by Muller in 1997, wherein the market is composed of non-homogenous groups in terms of trading appetite and investment objectives. \n",
    "- Each group uniquely contributes to market volatility across varying time horizons.\n",
    "\n",
    "<p align=\"center\">\n",
    "  <img src=\"Figures\\terms.png\" alt=\"Image Description\">\n",
    "</p>\n"
   ]
  },
  {
   "cell_type": "markdown",
   "metadata": {},
   "source": [
    "## The HAR DRD Framework\n",
    "\n",
    "- The HAR volatility model is augmented to model covariances.\n",
    "- Borrowed from the GARCH DCC aprroach, decompose the covariance matrix into correlations and volatilties:\n",
    "\n",
    "<p align=\"center\">\n",
    "  <img src=\"Figures\\DRD.png\" alt=\"Image Description\">\n",
    "</p>\n",
    "\n",
    "- Allows for modelling the two components separately, improving performance. \n",
    "- A single set of parameters is used for all asset volatilities and pairwise correlations, making this model very parsimonious. "
   ]
  },
  {
   "cell_type": "markdown",
   "metadata": {},
   "source": [
    "## A Typical HAR Volatility Model Specification\n",
    "\n",
    "$$\\sigma_{i,t+1}^{(d)} = c + \\beta^{(d)}RV_{i,t}^{(d)} + \\beta^{(w)}RV_{i,t}^{(w)} + \\beta^{(m)}RV_{i,t}^{(m)} + \\epsilon_{i,t+1}^{(d)},$$\n",
    "$$  i = 1,2,3,4 $$\n",
    "\n",
    "Where,\n",
    "\n",
    "$$ RV_{i,t}^{(d)} = \\sqrt{\\frac{1}{N}\\sum_{k=1}^N r_{k,t}^2} $$\n",
    "$$RV_{i,t}^{(w)} = \\frac{1}{5} \\sum_{k=0}^4 RV_{i,t-k}^{(d)} $$\n",
    "$$RV_{i,t}^{(m)} = \\frac{1}{21} \\sum_{k=0}^{20} RV_{i,t-k}^{(d)} $$"
   ]
  },
  {
   "cell_type": "markdown",
   "metadata": {},
   "source": [
    "## Correlation Forecast Model in HAR-DRD\n",
    "\n",
    "<div class=\"equation-container\">\n",
    "$$vech(R_{t+1}) = vech(\\bar{R}_T)(1 - \\alpha - \\beta - \\gamma) \n",
    "+ \\alpha\\cdot vech(R_{t}) + \\beta\\cdot vech(R_{t-4:t}) + \n",
    "\\gamma\\cdot vech(R_{t-20:t})+ vech(\\epsilon_{t+1})$$\n",
    "</div>\n",
    "\n",
    "- where the $\\textit{vech}$ operator returns the vectorized form of the lower triangular matrix\n",
    "- similar to the HAR volatility model with daily, weekly, and monthly contributors\n",
    "- Additional long-term average or intercept term"
   ]
  },
  {
   "cell_type": "markdown",
   "metadata": {},
   "source": [
    "## A critique of the HAR model\n",
    "\n",
    "- HAR models typically are implemented using high frequency intraday returns data which are expensive to obtain, computationally challenging to work with, and often exhibit significant noise. \n",
    "\n",
    "- Intraday returns are subject to market microstructure effects, which results in measurement errors when using them in daily volatility and correlation estimates. \n",
    "\n",
    "- Sum of average squared returns as a variance estimator assumes zero drift. \n"
   ]
  },
  {
   "cell_type": "markdown",
   "metadata": {},
   "source": [
    "## Other Estimators for Daily Realized Volatility\n",
    "\n",
    "- Daily log range: $\\ln(\\frac{High}{Low})$\n",
    "\n",
    "- Parkinson's variance: $\\frac{(\\ln(\\frac{High}{Low}))^2}{4\\ln 2}$\n",
    "\n",
    "While far less noisy and requiring lesser data, these estimators also assume zero drift which is not always the case.  "
   ]
  },
  {
   "cell_type": "markdown",
   "metadata": {},
   "source": [
    "## OHLC Daily Realized Volatility\n",
    "\n",
    "Introduced an alternative estimator for daily realized volatility developed by Rogers and Satchell (1991):\n",
    "\n",
    "$$ RV_{i,t}^{(d)} = \\sqrt{u_{i,t}(u_{i,t} - c_{i,t}) + d_{i,t}(d_{i,t} - c_{i,t})},$$\n",
    "$$u_{i,t} = \\ln H_{i,t} - \\ln O{i,t}$$\n",
    "$$d_{i,t} = \\ln L_{i,t} - \\ln O{i,t}$$\n",
    "$$c_{i,t} = \\ln C_{i,t} - \\ln O{i,t},$$ \n",
    "$$  i = 1,2,3,4 $$\n",
    "\n",
    "- Has desirable drift-independent property."
   ]
  },
  {
   "cell_type": "markdown",
   "metadata": {},
   "source": [
    "## An Alternative Approach to Correlation Forecasting\n",
    "\n",
    "Unlike volatility, we cannot estimate intraday correlation using just candlestick data because temporal information is lost. \n",
    "\n",
    "To maintain daily portfolio rebalancing while smoothening correlations, we propose to rolling weekly correlations. On each day, the correlation forecast would be over the following week.  \n",
    "\n",
    "$$vech(R_{t+1:t+5}) = vech(\\bar{R}_T)(1 - \\alpha - \\beta) + \\alpha\\cdot vech(R_{t-4:t}) + \\beta\\cdot vech(R_{t-20:t}) + vech(\\epsilon_{t+1:t+5})$$\n",
    "\n",
    "- Enables us to capture the flexibility of daily rebalancing without introducing excessive noise to portfolio weights.\n"
   ]
  },
  {
   "cell_type": "markdown",
   "metadata": {},
   "source": [
    "## HAR DRD model parameters\n",
    "\n",
    "Using data between 2002-2017 to train the model:\n",
    "\n",
    "<p align=\"center\">\n",
    "  <img src=\"Figures\\regression.png\" alt=\"Image Description\">\n",
    "</p>\n",
    "\n",
    "\n",
    "Coefficients for the volatility regression are more significant as the time horizon increases, exhibiting the long memory and persistance behavior of volatility. Correlations also show a similar property. "
   ]
  },
  {
   "cell_type": "markdown",
   "metadata": {},
   "source": [
    "## Out-of-sample forecast errors\n",
    "\n",
    "Generated forecast errors by measuring Euclidean distance $(L_2$ norm) between forecasted and actual vectorized volatility and correlation matrices, respectively, observed during 2018-2022. \n",
    "\n",
    "<p align=\"center\">\n",
    "  <img src=\"Figures/CorrelationLoss.png\" alt=\"Image Description\">\n",
    "</p>"
   ]
  },
  {
   "cell_type": "markdown",
   "metadata": {},
   "source": [
    "## \n",
    "\n",
    "<p align=\"center\">\n",
    "  <img src=\"Figures/VolatilityLoss_PreOilCrash.png\" alt=\"Image Description\" style = \"width: 40%; height: 20%\">\n",
    "</p>\n",
    "<p align=\"center\">\n",
    "  <img src=\"Figures/VIxPreOil.png\" alt=\"Image Description\" style = \"width: 35%; height: 50%\">\n",
    "</p>\n",
    "\n",
    "\n"
   ]
  },
  {
   "cell_type": "markdown",
   "metadata": {},
   "source": [
    "## \n",
    "\n",
    "<p align=\"center\">\n",
    "  <img src=\"Figures/VolatilityLoss_PostOilCrash.png\" alt=\"Image Description\" style = \"width: 40%; height: 20%\">\n",
    "</p>\n",
    "<p align=\"center\">\n",
    "  <img src=\"Figures/VIxPostOil.png\" alt=\"Image Description\" style = \"width: 35%; height: 50%\">\n",
    "</p>\n"
   ]
  },
  {
   "cell_type": "markdown",
   "metadata": {},
   "source": [
    "## Performance in a Portfolio Optimization context\n",
    "\n",
    "- Construct a minimum variance portfolio of SP500, US 10-Year Treasury, WTI Crude Oil, and Gold Futures:\n",
    "\n",
    "$$ Min \\,\\, \\omega^T \\Sigma \\omega $$\n",
    "$$ s.t.: \\,\\,\\sum_{i=1}^n \\omega_i = 1,\\,\\omega_i \\ge 0, \\forall_i,$$\n",
    "\n",
    "\n",
    "where $\\omega$ is the vector of portfolio weights and $\\Sigma$ is the covariance matrix of asset returns.\n",
    "\n",
    "- Compare performance against a simple (t-1) lagged historical approach. \n"
   ]
  },
  {
   "cell_type": "markdown",
   "metadata": {},
   "source": [
    "## \n",
    "\n",
    "<p align=\"center\">\n",
    "  <img src=\"Figures/Portfolio_Value.png\" alt=\"Image Description\" style = \"width: 50%; height: 50%\">\n",
    "</p>\n",
    "<p align=\"center\">\n",
    "  <img src=\"Figures/PortVol.png\" alt=\"Image Description\" style = \"width: 50%; height: 50%\">\n",
    "</p>\n"
   ]
  },
  {
   "cell_type": "markdown",
   "metadata": {},
   "source": [
    "## Conclusion\n",
    "\n",
    "- Shown viability of a HAR DRD model in the absence of high frequency intraday returns data.\n",
    "- New approach offers additional advantages in terms of data noise and measurement errors.\n",
    "\n",
    "Immediate improvements to the project can be made:\n",
    "\n",
    "- Compare performance against the traditional HAR DRD model and/or GARCH DCC.\n",
    "- Observe performance decay of the model when increasing forecasting horizon for weekly and monthly rebalancing.\n",
    "\n",
    "Other future innovations can include:\n",
    "\n",
    "- Time varying model parameters for improved regime switching performance.\n"
   ]
  },
  {
   "cell_type": "markdown",
   "metadata": {},
   "source": [
    "# Thank you\n",
    "suran021@umn.edu"
   ]
  }
 ],
 "metadata": {
  "kernelspec": {
   "display_name": "Python 3 (ipykernel)",
   "language": "python",
   "name": "python3"
  },
  "language_info": {
   "codemirror_mode": {
    "name": "ipython",
    "version": 3
   },
   "file_extension": ".py",
   "mimetype": "text/x-python",
   "name": "python",
   "nbconvert_exporter": "python",
   "pygments_lexer": "ipython3",
   "version": "3.9.13"
  }
 },
 "nbformat": 4,
 "nbformat_minor": 4
}
